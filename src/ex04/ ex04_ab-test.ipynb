{
 "cells": [
  {
   "cell_type": "code",
   "execution_count": 31,
   "id": "a60a941c-5b37-4742-86af-c3a46d5d6d67",
   "metadata": {},
   "outputs": [],
   "source": [
    "import pandas as pd\n",
    "import sqlite3"
   ]
  },
  {
   "cell_type": "code",
   "execution_count": 32,
   "id": "bac8b005-ec03-4b8c-95af-58352d728787",
   "metadata": {},
   "outputs": [],
   "source": [
    "connection = sqlite3.connect(\"../data/checking-logs.sqlite\")"
   ]
  },
  {
   "cell_type": "code",
   "execution_count": 33,
   "id": "2799ee9b-2023-48b3-8235-0cdaa440912b",
   "metadata": {},
   "outputs": [],
   "source": [
    "query = \"\"\"\n",
    "WITH test_before AS (\n",
    "    SELECT\n",
    "        'before' AS time,\n",
    "        AVG((deadlines - strftime('%s', DATETIME(first_commit_ts))) / 3600) AS avg_diff\n",
    "    FROM \n",
    "        test AS T \n",
    "    INNER JOIN \n",
    "        deadlines AS D \n",
    "    ON \n",
    "        T.labname = D.labs\n",
    "    WHERE \n",
    "        labname != 'project1' \n",
    "        AND first_commit_ts < first_view_ts\n",
    "        AND EXISTS (\n",
    "            SELECT 1 \n",
    "            FROM test AS T2 \n",
    "            WHERE T2.uid = T.uid \n",
    "            AND T2.first_commit_ts >= T2.first_view_ts\n",
    "        )\n",
    "),\n",
    "test_after AS (\n",
    "    SELECT\n",
    "        'after' AS time,\n",
    "        AVG((deadlines - strftime('%s', DATETIME(first_commit_ts))) / 3600) AS avg_diff\n",
    "    FROM \n",
    "        test AS T \n",
    "    INNER JOIN \n",
    "        deadlines AS D \n",
    "    ON \n",
    "        T.labname = D.labs\n",
    "    WHERE \n",
    "        labname != 'project1' \n",
    "        AND first_commit_ts >= first_view_ts\n",
    "        AND EXISTS (\n",
    "            SELECT 1 \n",
    "            FROM test AS T2 \n",
    "            WHERE T2.uid = T.uid \n",
    "            AND T2.first_commit_ts < T2.first_view_ts\n",
    "        )\n",
    ")\n",
    "SELECT * FROM test_before\n",
    "UNION\n",
    "SELECT * FROM test_after;\n",
    "\"\"\"\n",
    "test_results = pd.io.sql.read_sql(query, connection)"
   ]
  },
  {
   "cell_type": "code",
   "execution_count": 34,
   "id": "6df078ce-d388-4435-bcdd-455e203ea0e5",
   "metadata": {},
   "outputs": [],
   "source": [
    "query = \"\"\"\n",
    "WITH avg_first_view_ts AS (\n",
    "    SELECT AVG(first_view_ts) AS avg_first_view_ts\n",
    "    FROM test\n",
    "),\n",
    "control_before AS (\n",
    "    SELECT\n",
    "        'before' AS time,\n",
    "        AVG((deadlines - strftime('%s', DATETIME(first_commit_ts))) / 3600) AS avg_diff\n",
    "    FROM \n",
    "        control AS C \n",
    "    INNER JOIN \n",
    "        deadlines AS D ON C.labname = D.labs\n",
    "    WHERE \n",
    "        C.labname != 'project1' \n",
    "        AND C.first_commit_ts < first_view_ts\n",
    "        AND EXISTS (\n",
    "            SELECT 1 \n",
    "            FROM control AS C2 \n",
    "            WHERE C2.uid = C.uid \n",
    "            AND C2.first_commit_ts >= first_view_ts\n",
    "        )\n",
    "),\n",
    "control_after AS (\n",
    "    SELECT\n",
    "        'after' AS time,\n",
    "        AVG((deadlines - strftime('%s', DATETIME(first_commit_ts))) / 3600) AS avg_diff\n",
    "    FROM \n",
    "        control AS C \n",
    "    INNER JOIN \n",
    "        deadlines AS D ON C.labname = D.labs\n",
    "    WHERE \n",
    "        C.labname != 'project1' \n",
    "        AND C.first_commit_ts >= first_view_ts\n",
    "        AND EXISTS (\n",
    "            SELECT 1 \n",
    "            FROM control AS C2 \n",
    "            WHERE C2.uid = C.uid \n",
    "            AND C2.first_commit_ts < first_view_ts\n",
    "        )\n",
    ")\n",
    "SELECT * FROM control_before\n",
    "UNION ALL\n",
    "SELECT * FROM control_after;\n",
    "\"\"\"\n",
    "control_results = pd.io.sql.read_sql(query, connection)"
   ]
  },
  {
   "cell_type": "code",
   "execution_count": 35,
   "id": "deb48f89-318f-4027-a0e5-2e7b36d09d6c",
   "metadata": {},
   "outputs": [],
   "source": [
    "connection.close()"
   ]
  },
  {
   "cell_type": "code",
   "execution_count": 36,
   "id": "85291ffd-7d76-43bb-9ffb-f8763fa74cf0",
   "metadata": {},
   "outputs": [
    {
     "name": "stdout",
     "output_type": "stream",
     "text": [
      "Difference: 15.12\n",
      "That means the hypothesis turned out to be true!!\n"
     ]
    }
   ],
   "source": [
    "difference_control = (control_results.loc[control_results[\"time\"] == \"after\"][\"avg_diff\"].values[0]\n",
    "                      -\n",
    "                      control_results.loc[control_results[\"time\"] == \"before\"][\"avg_diff\"].values[0])\n",
    "\n",
    "difference_test = (test_results.loc[test_results[\"time\"] == \"after\"][\"avg_diff\"].values[0]\n",
    "                      -\n",
    "                      test_results.loc[test_results[\"time\"] == \"before\"][\"avg_diff\"].values[0])\n",
    "\n",
    "\n",
    "print(f'Difference: {round(difference_test - difference_control, 2)}\\nThat means the hypothesis turned out to be true!!')"
   ]
  }
 ],
 "metadata": {
  "kernelspec": {
   "display_name": "Python 3 (ipykernel)",
   "language": "python",
   "name": "python3"
  },
  "language_info": {
   "codemirror_mode": {
    "name": "ipython",
    "version": 3
   },
   "file_extension": ".py",
   "mimetype": "text/x-python",
   "name": "python",
   "nbconvert_exporter": "python",
   "pygments_lexer": "ipython3",
   "version": "3.11.4"
  }
 },
 "nbformat": 4,
 "nbformat_minor": 5
}
