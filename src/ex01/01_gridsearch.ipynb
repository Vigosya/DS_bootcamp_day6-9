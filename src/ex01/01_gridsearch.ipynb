{
 "cells": [
  {
   "cell_type": "markdown",
   "metadata": {
    "id": "gJm_8nRDyUp7"
   },
   "source": [
    "# Day 09. Exercise 01\n",
    "# Gridsearch"
   ]
  },
  {
   "cell_type": "markdown",
   "metadata": {
    "id": "OLB1I9UiyUp-"
   },
   "source": [
    "## 0. Imports"
   ]
  },
  {
   "cell_type": "code",
   "execution_count": 34,
   "metadata": {
    "id": "rjrDzFRzyUp_"
   },
   "outputs": [],
   "source": [
    "import pandas as pd\n",
    "from sklearn.model_selection import train_test_split\n",
    "from sklearn.svm import SVC\n",
    "from sklearn.model_selection import GridSearchCV\n",
    "from sklearn.tree import DecisionTreeClassifier\n",
    "from sklearn.ensemble import RandomForestClassifier\n",
    "from sklearn.model_selection import cross_val_score\n",
    "from itertools import product\n",
    "from tqdm.notebook import tqdm\n",
    "import numpy as np\n",
    "from sklearn.metrics import accuracy_score"
   ]
  },
  {
   "cell_type": "markdown",
   "metadata": {
    "id": "F8zodjDJyUqA"
   },
   "source": [
    "## 1. Preprocessing"
   ]
  },
  {
   "cell_type": "markdown",
   "metadata": {
    "id": "PWR10A1TyUqA"
   },
   "source": [
    "1. Read the file [`day-of-week-not-scaled.csv`](https://drive.google.com/file/d/1AlGvsJDSzPT_70caausx8bFuupIEZkfh/view?usp=sharing). It is similar to the one from the previous exercise, but this time we did not scale continuous features (we are not going to use logreg anymore).\n",
    "2. Using `train_test_split` with parameters `test_size=0.2`, `random_state=21` get `X_train`, `y_train`, `X_test`, `y_test`. Use the additional parameter `stratify`."
   ]
  },
  {
   "cell_type": "code",
   "execution_count": 39,
   "metadata": {
    "id": "c8RWKHJbyUqA"
   },
   "outputs": [
    {
     "data": {
      "text/plain": [
       "Index(['numTrials', 'hour', 'dayofweek', 'uid_user_0', 'uid_user_1',\n",
       "       'uid_user_10', 'uid_user_11', 'uid_user_12', 'uid_user_13',\n",
       "       'uid_user_14', 'uid_user_15', 'uid_user_16', 'uid_user_17',\n",
       "       'uid_user_18', 'uid_user_19', 'uid_user_2', 'uid_user_20',\n",
       "       'uid_user_21', 'uid_user_22', 'uid_user_23', 'uid_user_24',\n",
       "       'uid_user_25', 'uid_user_26', 'uid_user_27', 'uid_user_28',\n",
       "       'uid_user_29', 'uid_user_3', 'uid_user_30', 'uid_user_31', 'uid_user_4',\n",
       "       'uid_user_6', 'uid_user_7', 'uid_user_8', 'labname_code_rvw',\n",
       "       'labname_lab02', 'labname_lab03', 'labname_lab03s', 'labname_lab05s',\n",
       "       'labname_laba04', 'labname_laba04s', 'labname_laba05', 'labname_laba06',\n",
       "       'labname_laba06s', 'labname_project1'],\n",
       "      dtype='object')"
      ]
     },
     "execution_count": 39,
     "metadata": {},
     "output_type": "execute_result"
    }
   ],
   "source": [
    "data = pd.read_csv('../data/day-of-week-not-scaled.csv')\n",
    "df = pd.read_csv(\"../data/dayofweek.csv\")\n",
    "\n",
    "X = data\n",
    "y = df['dayofweek']\n",
    "\n",
    "df.columns"
   ]
  },
  {
   "cell_type": "code",
   "execution_count": 40,
   "metadata": {
    "id": "D5f4G8reyUqB"
   },
   "outputs": [],
   "source": [
    "X_train, X_test, y_train, y_test = train_test_split(\n",
    "    X, y, test_size=0.2, random_state=21, stratify=y)"
   ]
  },
  {
   "cell_type": "markdown",
   "metadata": {
    "id": "Qx6PXWY3yUqB"
   },
   "source": [
    "## 2. SVM gridsearch"
   ]
  },
  {
   "cell_type": "markdown",
   "metadata": {
    "id": "Z6zo8cHCyUqB"
   },
   "source": [
    "1. Using `GridSearchCV` try different parameters of kernel (`linear`, `rbf`, `sigmoid`), C (`0.01`, `0.1`, `1`, `1.5`, `5`, `10`), gamma (`scale`, `auto`), class_weight (`balanced`, `None`) use `random_state=21` and `probability=True` and get the best combination of them in terms of accuracy.\n",
    "2. Create a dataframe from the results of the gridsearch and sort it ascendingly by the `rank_test_score`. Check if there is a huge difference between different combinations (sometimes a simpler model may give a comparable result)."
   ]
  },
  {
   "cell_type": "code",
   "execution_count": 5,
   "metadata": {
    "id": "dBiuP78ayUqB"
   },
   "outputs": [],
   "source": [
    "param_grid = {\n",
    "    'kernel': ['linear', 'rbf', 'sigmoid'],\n",
    "    'C': [0.01, 0.1, 1, 1.5, 5, 10],\n",
    "    'gamma': ['scale', 'auto'],\n",
    "    'class_weight': ['balanced', None]\n",
    "}\n"
   ]
  },
  {
   "cell_type": "code",
   "execution_count": 6,
   "metadata": {
    "id": "4NL1AfU0yUqC"
   },
   "outputs": [
    {
     "name": "stdout",
     "output_type": "stream",
     "text": [
      "Fitting 5 folds for each of 72 candidates, totalling 360 fits\n"
     ]
    },
    {
     "data": {
      "text/plain": [
       "GridSearchCV(cv=5, estimator=SVC(probability=True, random_state=21), n_jobs=-1,\n",
       "             param_grid={'C': [0.01, 0.1, 1, 1.5, 5, 10],\n",
       "                         'class_weight': ['balanced', None],\n",
       "                         'gamma': ['scale', 'auto'],\n",
       "                         'kernel': ['linear', 'rbf', 'sigmoid']},\n",
       "             scoring='accuracy', verbose=1)"
      ]
     },
     "execution_count": 6,
     "metadata": {},
     "output_type": "execute_result"
    }
   ],
   "source": [
    "svm_model = SVC(random_state=21, probability=True)\n",
    "\n",
    "grid_search = GridSearchCV(\n",
    "    estimator=svm_model,\n",
    "    param_grid=param_grid,\n",
    "    scoring='accuracy',\n",
    "    cv=5,\n",
    "    verbose=1,\n",
    "    n_jobs=-1\n",
    ")\n",
    "\n",
    "grid_search.fit(X_train, y_train)"
   ]
  },
  {
   "cell_type": "code",
   "execution_count": 7,
   "metadata": {
    "id": "GoMznS9wyUqC"
   },
   "outputs": [],
   "source": [
    "results = pd.DataFrame(grid_search.cv_results_)\n",
    "\n",
    "\n",
    "results_sorted = results.sort_values(by='rank_test_score', ascending=True)"
   ]
  },
  {
   "cell_type": "code",
   "execution_count": 10,
   "metadata": {
    "id": "oaeHHckFyUqC"
   },
   "outputs": [
    {
     "data": {
      "text/html": [
       "<div>\n",
       "<style scoped>\n",
       "    .dataframe tbody tr th:only-of-type {\n",
       "        vertical-align: middle;\n",
       "    }\n",
       "\n",
       "    .dataframe tbody tr th {\n",
       "        vertical-align: top;\n",
       "    }\n",
       "\n",
       "    .dataframe thead th {\n",
       "        text-align: right;\n",
       "    }\n",
       "</style>\n",
       "<table border=\"1\" class=\"dataframe\">\n",
       "  <thead>\n",
       "    <tr style=\"text-align: right;\">\n",
       "      <th></th>\n",
       "      <th>mean_fit_time</th>\n",
       "      <th>std_fit_time</th>\n",
       "      <th>mean_score_time</th>\n",
       "      <th>std_score_time</th>\n",
       "      <th>param_C</th>\n",
       "      <th>param_class_weight</th>\n",
       "      <th>param_gamma</th>\n",
       "      <th>param_kernel</th>\n",
       "      <th>params</th>\n",
       "      <th>split0_test_score</th>\n",
       "      <th>split1_test_score</th>\n",
       "      <th>split2_test_score</th>\n",
       "      <th>split3_test_score</th>\n",
       "      <th>split4_test_score</th>\n",
       "      <th>mean_test_score</th>\n",
       "      <th>std_test_score</th>\n",
       "      <th>rank_test_score</th>\n",
       "    </tr>\n",
       "  </thead>\n",
       "  <tbody>\n",
       "    <tr>\n",
       "      <th>70</th>\n",
       "      <td>1.382769</td>\n",
       "      <td>0.075270</td>\n",
       "      <td>0.098863</td>\n",
       "      <td>0.008125</td>\n",
       "      <td>10</td>\n",
       "      <td>None</td>\n",
       "      <td>auto</td>\n",
       "      <td>rbf</td>\n",
       "      <td>{'C': 10, 'class_weight': None, 'gamma': 'auto...</td>\n",
       "      <td>0.900000</td>\n",
       "      <td>0.848148</td>\n",
       "      <td>0.885185</td>\n",
       "      <td>0.884758</td>\n",
       "      <td>0.862454</td>\n",
       "      <td>0.876109</td>\n",
       "      <td>0.018419</td>\n",
       "      <td>1</td>\n",
       "    </tr>\n",
       "    <tr>\n",
       "      <th>64</th>\n",
       "      <td>1.488274</td>\n",
       "      <td>0.148946</td>\n",
       "      <td>0.093292</td>\n",
       "      <td>0.016933</td>\n",
       "      <td>10</td>\n",
       "      <td>balanced</td>\n",
       "      <td>auto</td>\n",
       "      <td>rbf</td>\n",
       "      <td>{'C': 10, 'class_weight': 'balanced', 'gamma':...</td>\n",
       "      <td>0.877778</td>\n",
       "      <td>0.851852</td>\n",
       "      <td>0.862963</td>\n",
       "      <td>0.873606</td>\n",
       "      <td>0.851301</td>\n",
       "      <td>0.863500</td>\n",
       "      <td>0.010870</td>\n",
       "      <td>2</td>\n",
       "    </tr>\n",
       "    <tr>\n",
       "      <th>58</th>\n",
       "      <td>1.338499</td>\n",
       "      <td>0.045946</td>\n",
       "      <td>0.100745</td>\n",
       "      <td>0.015948</td>\n",
       "      <td>5</td>\n",
       "      <td>None</td>\n",
       "      <td>auto</td>\n",
       "      <td>rbf</td>\n",
       "      <td>{'C': 5, 'class_weight': None, 'gamma': 'auto'...</td>\n",
       "      <td>0.825926</td>\n",
       "      <td>0.811111</td>\n",
       "      <td>0.818519</td>\n",
       "      <td>0.821561</td>\n",
       "      <td>0.802974</td>\n",
       "      <td>0.816018</td>\n",
       "      <td>0.008116</td>\n",
       "      <td>3</td>\n",
       "    </tr>\n",
       "    <tr>\n",
       "      <th>52</th>\n",
       "      <td>1.432540</td>\n",
       "      <td>0.097448</td>\n",
       "      <td>0.107165</td>\n",
       "      <td>0.010297</td>\n",
       "      <td>5</td>\n",
       "      <td>balanced</td>\n",
       "      <td>auto</td>\n",
       "      <td>rbf</td>\n",
       "      <td>{'C': 5, 'class_weight': 'balanced', 'gamma': ...</td>\n",
       "      <td>0.844444</td>\n",
       "      <td>0.785185</td>\n",
       "      <td>0.792593</td>\n",
       "      <td>0.817844</td>\n",
       "      <td>0.802974</td>\n",
       "      <td>0.808608</td>\n",
       "      <td>0.021007</td>\n",
       "      <td>4</td>\n",
       "    </tr>\n",
       "    <tr>\n",
       "      <th>63</th>\n",
       "      <td>76.428372</td>\n",
       "      <td>7.446059</td>\n",
       "      <td>0.034714</td>\n",
       "      <td>0.006306</td>\n",
       "      <td>10</td>\n",
       "      <td>balanced</td>\n",
       "      <td>auto</td>\n",
       "      <td>linear</td>\n",
       "      <td>{'C': 10, 'class_weight': 'balanced', 'gamma':...</td>\n",
       "      <td>0.729630</td>\n",
       "      <td>0.700000</td>\n",
       "      <td>0.755556</td>\n",
       "      <td>0.754647</td>\n",
       "      <td>0.665428</td>\n",
       "      <td>0.721052</td>\n",
       "      <td>0.034438</td>\n",
       "      <td>5</td>\n",
       "    </tr>\n",
       "    <tr>\n",
       "      <th>60</th>\n",
       "      <td>73.589682</td>\n",
       "      <td>7.164392</td>\n",
       "      <td>0.033902</td>\n",
       "      <td>0.005537</td>\n",
       "      <td>10</td>\n",
       "      <td>balanced</td>\n",
       "      <td>scale</td>\n",
       "      <td>linear</td>\n",
       "      <td>{'C': 10, 'class_weight': 'balanced', 'gamma':...</td>\n",
       "      <td>0.729630</td>\n",
       "      <td>0.700000</td>\n",
       "      <td>0.755556</td>\n",
       "      <td>0.754647</td>\n",
       "      <td>0.665428</td>\n",
       "      <td>0.721052</td>\n",
       "      <td>0.034438</td>\n",
       "      <td>5</td>\n",
       "    </tr>\n",
       "    <tr>\n",
       "      <th>66</th>\n",
       "      <td>63.594280</td>\n",
       "      <td>7.139836</td>\n",
       "      <td>0.034997</td>\n",
       "      <td>0.006871</td>\n",
       "      <td>10</td>\n",
       "      <td>None</td>\n",
       "      <td>scale</td>\n",
       "      <td>linear</td>\n",
       "      <td>{'C': 10, 'class_weight': None, 'gamma': 'scal...</td>\n",
       "      <td>0.737037</td>\n",
       "      <td>0.711111</td>\n",
       "      <td>0.707407</td>\n",
       "      <td>0.743494</td>\n",
       "      <td>0.698885</td>\n",
       "      <td>0.719587</td>\n",
       "      <td>0.017463</td>\n",
       "      <td>7</td>\n",
       "    </tr>\n",
       "    <tr>\n",
       "      <th>69</th>\n",
       "      <td>52.671366</td>\n",
       "      <td>5.232098</td>\n",
       "      <td>0.020037</td>\n",
       "      <td>0.004714</td>\n",
       "      <td>10</td>\n",
       "      <td>None</td>\n",
       "      <td>auto</td>\n",
       "      <td>linear</td>\n",
       "      <td>{'C': 10, 'class_weight': None, 'gamma': 'auto...</td>\n",
       "      <td>0.737037</td>\n",
       "      <td>0.711111</td>\n",
       "      <td>0.707407</td>\n",
       "      <td>0.743494</td>\n",
       "      <td>0.698885</td>\n",
       "      <td>0.719587</td>\n",
       "      <td>0.017463</td>\n",
       "      <td>7</td>\n",
       "    </tr>\n",
       "    <tr>\n",
       "      <th>51</th>\n",
       "      <td>45.085103</td>\n",
       "      <td>2.373876</td>\n",
       "      <td>0.036810</td>\n",
       "      <td>0.019477</td>\n",
       "      <td>5</td>\n",
       "      <td>balanced</td>\n",
       "      <td>auto</td>\n",
       "      <td>linear</td>\n",
       "      <td>{'C': 5, 'class_weight': 'balanced', 'gamma': ...</td>\n",
       "      <td>0.725926</td>\n",
       "      <td>0.692593</td>\n",
       "      <td>0.696296</td>\n",
       "      <td>0.754647</td>\n",
       "      <td>0.661710</td>\n",
       "      <td>0.706234</td>\n",
       "      <td>0.031619</td>\n",
       "      <td>9</td>\n",
       "    </tr>\n",
       "    <tr>\n",
       "      <th>48</th>\n",
       "      <td>44.929767</td>\n",
       "      <td>2.289463</td>\n",
       "      <td>0.041873</td>\n",
       "      <td>0.013991</td>\n",
       "      <td>5</td>\n",
       "      <td>balanced</td>\n",
       "      <td>scale</td>\n",
       "      <td>linear</td>\n",
       "      <td>{'C': 5, 'class_weight': 'balanced', 'gamma': ...</td>\n",
       "      <td>0.725926</td>\n",
       "      <td>0.692593</td>\n",
       "      <td>0.696296</td>\n",
       "      <td>0.754647</td>\n",
       "      <td>0.661710</td>\n",
       "      <td>0.706234</td>\n",
       "      <td>0.031619</td>\n",
       "      <td>9</td>\n",
       "    </tr>\n",
       "  </tbody>\n",
       "</table>\n",
       "</div>"
      ],
      "text/plain": [
       "    mean_fit_time  std_fit_time  mean_score_time  std_score_time param_C  \\\n",
       "70       1.382769      0.075270         0.098863        0.008125      10   \n",
       "64       1.488274      0.148946         0.093292        0.016933      10   \n",
       "58       1.338499      0.045946         0.100745        0.015948       5   \n",
       "52       1.432540      0.097448         0.107165        0.010297       5   \n",
       "63      76.428372      7.446059         0.034714        0.006306      10   \n",
       "60      73.589682      7.164392         0.033902        0.005537      10   \n",
       "66      63.594280      7.139836         0.034997        0.006871      10   \n",
       "69      52.671366      5.232098         0.020037        0.004714      10   \n",
       "51      45.085103      2.373876         0.036810        0.019477       5   \n",
       "48      44.929767      2.289463         0.041873        0.013991       5   \n",
       "\n",
       "   param_class_weight param_gamma param_kernel  \\\n",
       "70               None        auto          rbf   \n",
       "64           balanced        auto          rbf   \n",
       "58               None        auto          rbf   \n",
       "52           balanced        auto          rbf   \n",
       "63           balanced        auto       linear   \n",
       "60           balanced       scale       linear   \n",
       "66               None       scale       linear   \n",
       "69               None        auto       linear   \n",
       "51           balanced        auto       linear   \n",
       "48           balanced       scale       linear   \n",
       "\n",
       "                                               params  split0_test_score  \\\n",
       "70  {'C': 10, 'class_weight': None, 'gamma': 'auto...           0.900000   \n",
       "64  {'C': 10, 'class_weight': 'balanced', 'gamma':...           0.877778   \n",
       "58  {'C': 5, 'class_weight': None, 'gamma': 'auto'...           0.825926   \n",
       "52  {'C': 5, 'class_weight': 'balanced', 'gamma': ...           0.844444   \n",
       "63  {'C': 10, 'class_weight': 'balanced', 'gamma':...           0.729630   \n",
       "60  {'C': 10, 'class_weight': 'balanced', 'gamma':...           0.729630   \n",
       "66  {'C': 10, 'class_weight': None, 'gamma': 'scal...           0.737037   \n",
       "69  {'C': 10, 'class_weight': None, 'gamma': 'auto...           0.737037   \n",
       "51  {'C': 5, 'class_weight': 'balanced', 'gamma': ...           0.725926   \n",
       "48  {'C': 5, 'class_weight': 'balanced', 'gamma': ...           0.725926   \n",
       "\n",
       "    split1_test_score  split2_test_score  split3_test_score  \\\n",
       "70           0.848148           0.885185           0.884758   \n",
       "64           0.851852           0.862963           0.873606   \n",
       "58           0.811111           0.818519           0.821561   \n",
       "52           0.785185           0.792593           0.817844   \n",
       "63           0.700000           0.755556           0.754647   \n",
       "60           0.700000           0.755556           0.754647   \n",
       "66           0.711111           0.707407           0.743494   \n",
       "69           0.711111           0.707407           0.743494   \n",
       "51           0.692593           0.696296           0.754647   \n",
       "48           0.692593           0.696296           0.754647   \n",
       "\n",
       "    split4_test_score  mean_test_score  std_test_score  rank_test_score  \n",
       "70           0.862454         0.876109        0.018419                1  \n",
       "64           0.851301         0.863500        0.010870                2  \n",
       "58           0.802974         0.816018        0.008116                3  \n",
       "52           0.802974         0.808608        0.021007                4  \n",
       "63           0.665428         0.721052        0.034438                5  \n",
       "60           0.665428         0.721052        0.034438                5  \n",
       "66           0.698885         0.719587        0.017463                7  \n",
       "69           0.698885         0.719587        0.017463                7  \n",
       "51           0.661710         0.706234        0.031619                9  \n",
       "48           0.661710         0.706234        0.031619                9  "
      ]
     },
     "execution_count": 10,
     "metadata": {},
     "output_type": "execute_result"
    }
   ],
   "source": [
    "results_sorted.head(10)\n",
    "\n",
    "\n"
   ]
  },
  {
   "cell_type": "code",
   "execution_count": 11,
   "metadata": {
    "id": "Z_CDXonkyUqC"
   },
   "outputs": [
    {
     "data": {
      "text/plain": [
       "{'C': 10, 'class_weight': None, 'gamma': 'auto', 'kernel': 'rbf'}"
      ]
     },
     "execution_count": 11,
     "metadata": {},
     "output_type": "execute_result"
    }
   ],
   "source": [
    "grid_search.best_params_"
   ]
  },
  {
   "cell_type": "code",
   "execution_count": null,
   "metadata": {
    "id": "R4AwI3cbyUqC"
   },
   "outputs": [],
   "source": []
  },
  {
   "cell_type": "markdown",
   "metadata": {
    "id": "a3w4FpldyUqC"
   },
   "source": [
    "## 3. Decision tree"
   ]
  },
  {
   "cell_type": "markdown",
   "metadata": {
    "id": "ELqxX9sXyUqD"
   },
   "source": [
    "1. Using `GridSearchCV` try different parameters of `max_depth` (from `1` to `49`), `class_weight` (`balanced`, `None`) and `criterion` (`entropy` and `gini`) and get the best combination of them in terms of accuracy. Use `random_state=21`.\n",
    "2. Create a dataframe from the results of the gridsearch and sort it ascendingly by the `rank_test_score`, check if there is a huge difference between different combinations (sometimes a simpler model may give a comparable result)."
   ]
  },
  {
   "cell_type": "code",
   "execution_count": 12,
   "metadata": {
    "id": "Q6YmUeUqyUqD"
   },
   "outputs": [],
   "source": [
    "dt = DecisionTreeClassifier(random_state=21)\n",
    "\n",
    "\n",
    "param_grid = {\n",
    "    \"max_depth\": range(1, 50),\n",
    "    \"class_weight\": [None, \"balanced\"],\n",
    "    \"criterion\": [\"gini\", \"entropy\"]\n",
    "}\n"
   ]
  },
  {
   "cell_type": "code",
   "execution_count": 13,
   "metadata": {
    "id": "aF9K-bBGyUqD"
   },
   "outputs": [
    {
     "name": "stdout",
     "output_type": "stream",
     "text": [
      "Fitting 5 folds for each of 196 candidates, totalling 980 fits\n"
     ]
    },
    {
     "data": {
      "text/plain": [
       "GridSearchCV(cv=5, estimator=DecisionTreeClassifier(random_state=21), n_jobs=-1,\n",
       "             param_grid={'class_weight': [None, 'balanced'],\n",
       "                         'criterion': ['gini', 'entropy'],\n",
       "                         'max_depth': range(1, 50)},\n",
       "             scoring='accuracy', verbose=1)"
      ]
     },
     "execution_count": 13,
     "metadata": {},
     "output_type": "execute_result"
    }
   ],
   "source": [
    "grid_search = GridSearchCV(dt, param_grid, scoring=\"accuracy\", cv=5, n_jobs=-1, verbose=1)\n",
    "grid_search.fit(X_train, y_train)"
   ]
  },
  {
   "cell_type": "code",
   "execution_count": 14,
   "metadata": {
    "id": "7barDuTYyUqD"
   },
   "outputs": [],
   "source": [
    "results_df = pd.DataFrame(grid_search.cv_results_)"
   ]
  },
  {
   "cell_type": "code",
   "execution_count": 15,
   "metadata": {
    "id": "Txy-LhV5yUqD"
   },
   "outputs": [],
   "source": [
    "results_df = results_df.sort_values(by=\"rank_test_score\")"
   ]
  },
  {
   "cell_type": "code",
   "execution_count": 19,
   "metadata": {
    "id": "IKBNKOqfyUqD"
   },
   "outputs": [
    {
     "data": {
      "text/html": [
       "<div>\n",
       "<style scoped>\n",
       "    .dataframe tbody tr th:only-of-type {\n",
       "        vertical-align: middle;\n",
       "    }\n",
       "\n",
       "    .dataframe tbody tr th {\n",
       "        vertical-align: top;\n",
       "    }\n",
       "\n",
       "    .dataframe thead th {\n",
       "        text-align: right;\n",
       "    }\n",
       "</style>\n",
       "<table border=\"1\" class=\"dataframe\">\n",
       "  <thead>\n",
       "    <tr style=\"text-align: right;\">\n",
       "      <th></th>\n",
       "      <th>rank_test_score</th>\n",
       "      <th>mean_test_score</th>\n",
       "      <th>param_max_depth</th>\n",
       "      <th>param_class_weight</th>\n",
       "      <th>param_criterion</th>\n",
       "    </tr>\n",
       "  </thead>\n",
       "  <tbody>\n",
       "    <tr>\n",
       "      <th>119</th>\n",
       "      <td>1</td>\n",
       "      <td>0.873121</td>\n",
       "      <td>22</td>\n",
       "      <td>balanced</td>\n",
       "      <td>gini</td>\n",
       "    </tr>\n",
       "    <tr>\n",
       "      <th>118</th>\n",
       "      <td>2</td>\n",
       "      <td>0.873121</td>\n",
       "      <td>21</td>\n",
       "      <td>balanced</td>\n",
       "      <td>gini</td>\n",
       "    </tr>\n",
       "    <tr>\n",
       "      <th>133</th>\n",
       "      <td>3</td>\n",
       "      <td>0.873116</td>\n",
       "      <td>36</td>\n",
       "      <td>balanced</td>\n",
       "      <td>gini</td>\n",
       "    </tr>\n",
       "    <tr>\n",
       "      <th>139</th>\n",
       "      <td>3</td>\n",
       "      <td>0.873116</td>\n",
       "      <td>42</td>\n",
       "      <td>balanced</td>\n",
       "      <td>gini</td>\n",
       "    </tr>\n",
       "    <tr>\n",
       "      <th>138</th>\n",
       "      <td>3</td>\n",
       "      <td>0.873116</td>\n",
       "      <td>41</td>\n",
       "      <td>balanced</td>\n",
       "      <td>gini</td>\n",
       "    </tr>\n",
       "    <tr>\n",
       "      <th>137</th>\n",
       "      <td>3</td>\n",
       "      <td>0.873116</td>\n",
       "      <td>40</td>\n",
       "      <td>balanced</td>\n",
       "      <td>gini</td>\n",
       "    </tr>\n",
       "    <tr>\n",
       "      <th>136</th>\n",
       "      <td>3</td>\n",
       "      <td>0.873116</td>\n",
       "      <td>39</td>\n",
       "      <td>balanced</td>\n",
       "      <td>gini</td>\n",
       "    </tr>\n",
       "    <tr>\n",
       "      <th>135</th>\n",
       "      <td>3</td>\n",
       "      <td>0.873116</td>\n",
       "      <td>38</td>\n",
       "      <td>balanced</td>\n",
       "      <td>gini</td>\n",
       "    </tr>\n",
       "    <tr>\n",
       "      <th>134</th>\n",
       "      <td>3</td>\n",
       "      <td>0.873116</td>\n",
       "      <td>37</td>\n",
       "      <td>balanced</td>\n",
       "      <td>gini</td>\n",
       "    </tr>\n",
       "    <tr>\n",
       "      <th>142</th>\n",
       "      <td>3</td>\n",
       "      <td>0.873116</td>\n",
       "      <td>45</td>\n",
       "      <td>balanced</td>\n",
       "      <td>gini</td>\n",
       "    </tr>\n",
       "  </tbody>\n",
       "</table>\n",
       "</div>"
      ],
      "text/plain": [
       "     rank_test_score  mean_test_score param_max_depth param_class_weight  \\\n",
       "119                1         0.873121              22           balanced   \n",
       "118                2         0.873121              21           balanced   \n",
       "133                3         0.873116              36           balanced   \n",
       "139                3         0.873116              42           balanced   \n",
       "138                3         0.873116              41           balanced   \n",
       "137                3         0.873116              40           balanced   \n",
       "136                3         0.873116              39           balanced   \n",
       "135                3         0.873116              38           balanced   \n",
       "134                3         0.873116              37           balanced   \n",
       "142                3         0.873116              45           balanced   \n",
       "\n",
       "    param_criterion  \n",
       "119            gini  \n",
       "118            gini  \n",
       "133            gini  \n",
       "139            gini  \n",
       "138            gini  \n",
       "137            gini  \n",
       "136            gini  \n",
       "135            gini  \n",
       "134            gini  \n",
       "142            gini  "
      ]
     },
     "execution_count": 19,
     "metadata": {},
     "output_type": "execute_result"
    }
   ],
   "source": [
    "results_df[[\"rank_test_score\", \"mean_test_score\", \"param_max_depth\", \"param_class_weight\", \"param_criterion\"]].head(10)"
   ]
  },
  {
   "cell_type": "code",
   "execution_count": 17,
   "metadata": {
    "id": "CHac1Ml0yUqE"
   },
   "outputs": [
    {
     "data": {
      "text/plain": [
       "{'class_weight': 'balanced', 'criterion': 'gini', 'max_depth': 22}"
      ]
     },
     "execution_count": 17,
     "metadata": {},
     "output_type": "execute_result"
    }
   ],
   "source": [
    "grid_search.best_params_"
   ]
  },
  {
   "cell_type": "markdown",
   "metadata": {
    "id": "dLFxJKtiyUqE"
   },
   "source": [
    "## 4. Random forest"
   ]
  },
  {
   "cell_type": "markdown",
   "metadata": {
    "id": "V6ADE7RuyUqE"
   },
   "source": [
    "1. Using `GridSearchCV` try different parameters of `n_estimators` (`5`, `10`, `50`, `100`), `max_depth` (from `1` to `49`), `class_weight` (`balanced`, `None`) and `criterion` (`entropy` and `gini`) and get the best combination of them in terms of accuracy. Use random_state=21.\n",
    "2. Create a dataframe from the results of the gridsearch and sort it ascendengly by the `rank_test_score`, check if there is a huge difference between different combinations (sometimes a simpler model may give a comparable result)."
   ]
  },
  {
   "cell_type": "code",
   "execution_count": 21,
   "metadata": {
    "id": "VOyEfEctyUqE"
   },
   "outputs": [],
   "source": [
    "rf = RandomForestClassifier(random_state=21)\n",
    "\n",
    "\n",
    "param_grid = {\n",
    "    \"n_estimators\": [5, 10, 50, 100],\n",
    "    \"max_depth\": range(1, 50),\n",
    "    \"class_weight\": [None, \"balanced\"],\n",
    "    \"criterion\": [\"gini\", \"entropy\"]\n",
    "}\n"
   ]
  },
  {
   "cell_type": "code",
   "execution_count": 22,
   "metadata": {
    "id": "otVWJ4CqyUqE"
   },
   "outputs": [
    {
     "name": "stdout",
     "output_type": "stream",
     "text": [
      "Fitting 5 folds for each of 784 candidates, totalling 3920 fits\n"
     ]
    },
    {
     "data": {
      "text/plain": [
       "GridSearchCV(cv=5, estimator=RandomForestClassifier(random_state=21), n_jobs=-1,\n",
       "             param_grid={'class_weight': [None, 'balanced'],\n",
       "                         'criterion': ['gini', 'entropy'],\n",
       "                         'max_depth': range(1, 50),\n",
       "                         'n_estimators': [5, 10, 50, 100]},\n",
       "             scoring='accuracy', verbose=1)"
      ]
     },
     "execution_count": 22,
     "metadata": {},
     "output_type": "execute_result"
    }
   ],
   "source": [
    "grid_search = GridSearchCV(rf, param_grid, scoring=\"accuracy\", cv=5, n_jobs=-1, verbose=1)\n",
    "grid_search.fit(X_train, y_train)"
   ]
  },
  {
   "cell_type": "code",
   "execution_count": 23,
   "metadata": {
    "id": "y8CPm8gTyUqE"
   },
   "outputs": [],
   "source": [
    "results_df = pd.DataFrame(grid_search.cv_results_)\n",
    "\n",
    "results_df = results_df.sort_values(by=\"rank_test_score\")\n"
   ]
  },
  {
   "cell_type": "code",
   "execution_count": 24,
   "metadata": {
    "id": "YuU50GSQyUqF"
   },
   "outputs": [
    {
     "data": {
      "text/plain": [
       "{'class_weight': None,\n",
       " 'criterion': 'gini',\n",
       " 'max_depth': 28,\n",
       " 'n_estimators': 50}"
      ]
     },
     "execution_count": 24,
     "metadata": {},
     "output_type": "execute_result"
    }
   ],
   "source": [
    "grid_search.best_params_"
   ]
  },
  {
   "cell_type": "code",
   "execution_count": 26,
   "metadata": {
    "id": "KkrTpWNoyUqF"
   },
   "outputs": [
    {
     "data": {
      "text/html": [
       "<div>\n",
       "<style scoped>\n",
       "    .dataframe tbody tr th:only-of-type {\n",
       "        vertical-align: middle;\n",
       "    }\n",
       "\n",
       "    .dataframe tbody tr th {\n",
       "        vertical-align: top;\n",
       "    }\n",
       "\n",
       "    .dataframe thead th {\n",
       "        text-align: right;\n",
       "    }\n",
       "</style>\n",
       "<table border=\"1\" class=\"dataframe\">\n",
       "  <thead>\n",
       "    <tr style=\"text-align: right;\">\n",
       "      <th></th>\n",
       "      <th>rank_test_score</th>\n",
       "      <th>mean_test_score</th>\n",
       "      <th>param_n_estimators</th>\n",
       "      <th>param_max_depth</th>\n",
       "      <th>param_class_weight</th>\n",
       "      <th>param_criterion</th>\n",
       "    </tr>\n",
       "  </thead>\n",
       "  <tbody>\n",
       "    <tr>\n",
       "      <th>110</th>\n",
       "      <td>1</td>\n",
       "      <td>0.904290</td>\n",
       "      <td>50</td>\n",
       "      <td>28</td>\n",
       "      <td>None</td>\n",
       "      <td>gini</td>\n",
       "    </tr>\n",
       "    <tr>\n",
       "      <th>123</th>\n",
       "      <td>2</td>\n",
       "      <td>0.903547</td>\n",
       "      <td>100</td>\n",
       "      <td>31</td>\n",
       "      <td>None</td>\n",
       "      <td>gini</td>\n",
       "    </tr>\n",
       "    <tr>\n",
       "      <th>510</th>\n",
       "      <td>3</td>\n",
       "      <td>0.902817</td>\n",
       "      <td>50</td>\n",
       "      <td>30</td>\n",
       "      <td>balanced</td>\n",
       "      <td>gini</td>\n",
       "    </tr>\n",
       "    <tr>\n",
       "      <th>526</th>\n",
       "      <td>4</td>\n",
       "      <td>0.902809</td>\n",
       "      <td>50</td>\n",
       "      <td>34</td>\n",
       "      <td>balanced</td>\n",
       "      <td>gini</td>\n",
       "    </tr>\n",
       "    <tr>\n",
       "      <th>191</th>\n",
       "      <td>5</td>\n",
       "      <td>0.902806</td>\n",
       "      <td>100</td>\n",
       "      <td>48</td>\n",
       "      <td>None</td>\n",
       "      <td>gini</td>\n",
       "    </tr>\n",
       "    <tr>\n",
       "      <th>143</th>\n",
       "      <td>5</td>\n",
       "      <td>0.902806</td>\n",
       "      <td>100</td>\n",
       "      <td>36</td>\n",
       "      <td>None</td>\n",
       "      <td>gini</td>\n",
       "    </tr>\n",
       "    <tr>\n",
       "      <th>187</th>\n",
       "      <td>5</td>\n",
       "      <td>0.902806</td>\n",
       "      <td>100</td>\n",
       "      <td>47</td>\n",
       "      <td>None</td>\n",
       "      <td>gini</td>\n",
       "    </tr>\n",
       "    <tr>\n",
       "      <th>155</th>\n",
       "      <td>5</td>\n",
       "      <td>0.902806</td>\n",
       "      <td>100</td>\n",
       "      <td>39</td>\n",
       "      <td>None</td>\n",
       "      <td>gini</td>\n",
       "    </tr>\n",
       "    <tr>\n",
       "      <th>147</th>\n",
       "      <td>5</td>\n",
       "      <td>0.902806</td>\n",
       "      <td>100</td>\n",
       "      <td>37</td>\n",
       "      <td>None</td>\n",
       "      <td>gini</td>\n",
       "    </tr>\n",
       "    <tr>\n",
       "      <th>183</th>\n",
       "      <td>5</td>\n",
       "      <td>0.902806</td>\n",
       "      <td>100</td>\n",
       "      <td>46</td>\n",
       "      <td>None</td>\n",
       "      <td>gini</td>\n",
       "    </tr>\n",
       "  </tbody>\n",
       "</table>\n",
       "</div>"
      ],
      "text/plain": [
       "     rank_test_score  mean_test_score param_n_estimators param_max_depth  \\\n",
       "110                1         0.904290                 50              28   \n",
       "123                2         0.903547                100              31   \n",
       "510                3         0.902817                 50              30   \n",
       "526                4         0.902809                 50              34   \n",
       "191                5         0.902806                100              48   \n",
       "143                5         0.902806                100              36   \n",
       "187                5         0.902806                100              47   \n",
       "155                5         0.902806                100              39   \n",
       "147                5         0.902806                100              37   \n",
       "183                5         0.902806                100              46   \n",
       "\n",
       "    param_class_weight param_criterion  \n",
       "110               None            gini  \n",
       "123               None            gini  \n",
       "510           balanced            gini  \n",
       "526           balanced            gini  \n",
       "191               None            gini  \n",
       "143               None            gini  \n",
       "187               None            gini  \n",
       "155               None            gini  \n",
       "147               None            gini  \n",
       "183               None            gini  "
      ]
     },
     "execution_count": 26,
     "metadata": {},
     "output_type": "execute_result"
    }
   ],
   "source": [
    "results_df[[\"rank_test_score\", \"mean_test_score\", \"param_n_estimators\", \"param_max_depth\", \"param_class_weight\", \"param_criterion\"]].head(10)"
   ]
  },
  {
   "cell_type": "code",
   "execution_count": null,
   "metadata": {
    "id": "Wi2t0DNqyUqF"
   },
   "outputs": [],
   "source": []
  },
  {
   "cell_type": "markdown",
   "metadata": {
    "id": "WWa7ucWxyUqF"
   },
   "source": [
    "## 5. Progress bar"
   ]
  },
  {
   "cell_type": "markdown",
   "metadata": {
    "id": "u2Q8KPBiyUqF"
   },
   "source": [
    "Gridsearch can be a quite long process and you may find yourself wondering when it will end.\n",
    "1. Create a manual gridsearch for the same parameters values of random forest iterating through the list of the possible values and calculating `cross_val_score` for each combination. Try to increase `n_jobs`. The value `cv` for `cross_val_score` is 5.\n",
    "2. Track the progress using the library `tqdm.notebook`.\n",
    "3. Create a dataframe from the results of the gridsearch with the columns corresponding to the names of the parameters and `mean_accuracy` and `std_accuracy`.\n",
    "4. Sort it descendingly by the `mean_accuracy`, check if there is a huge difference between different combinations (sometimes a simpler model may give a comparable result)."
   ]
  },
  {
   "cell_type": "code",
   "execution_count": 29,
   "metadata": {
    "id": "a1x6AdqTyUqG"
   },
   "outputs": [],
   "source": [
    "n_estimators = [5, 10, 50, 100]\n",
    "max_depth = range(1, 50)\n",
    "class_weight = [None, \"balanced\"]\n",
    "criterion = [\"gini\", \"entropy\"]\n",
    "\n",
    "param_combinations = list(product(n_estimators, max_depth, class_weight, criterion))"
   ]
  },
  {
   "cell_type": "code",
   "execution_count": 32,
   "metadata": {
    "id": "UCBvyIm-yUqG"
   },
   "outputs": [
    {
     "data": {
      "application/vnd.jupyter.widget-view+json": {
       "model_id": "63d60015ab504dccbac95dc64291c9da",
       "version_major": 2,
       "version_minor": 0
      },
      "text/plain": [
       "Grid Search Progress:   0%|          | 0/784 [00:00<?, ?it/s]"
      ]
     },
     "metadata": {},
     "output_type": "display_data"
    },
    {
     "data": {
      "text/plain": [
       "n_estimators           50\n",
       "max_depth              28\n",
       "class_weight         None\n",
       "criterion            gini\n",
       "mean_accuracy     0.90429\n",
       "std_accuracy     0.010961\n",
       "Name: 500, dtype: object"
      ]
     },
     "execution_count": 32,
     "metadata": {},
     "output_type": "execute_result"
    }
   ],
   "source": [
    "results = []\n",
    "\n",
    "for n_est, depth, weight, crit in tqdm(param_combinations, desc=\"Grid Search Progress\"):\n",
    "    model = RandomForestClassifier(n_estimators=n_est, max_depth=depth, class_weight=weight, criterion=crit, random_state=21, n_jobs=-1)\n",
    "    scores = cross_val_score(model, X_train, y_train, cv=5, scoring=\"accuracy\", n_jobs=-1) \n",
    "    \n",
    "    results.append({\n",
    "        \"n_estimators\": n_est,\n",
    "        \"max_depth\": depth,\n",
    "        \"class_weight\": weight,\n",
    "        \"criterion\": crit,\n",
    "        \"mean_accuracy\": np.mean(scores),\n",
    "        \"std_accuracy\": np.std(scores)\n",
    "    })\n",
    "\n",
    "\n",
    "results_df = pd.DataFrame(results)\n",
    "results_df = results_df.sort_values(by=\"mean_accuracy\", ascending=False)\n",
    "\n",
    "results_df.iloc[0]"
   ]
  },
  {
   "cell_type": "code",
   "execution_count": 33,
   "metadata": {
    "id": "pXNzb1QnyUqG"
   },
   "outputs": [
    {
     "data": {
      "text/html": [
       "<div>\n",
       "<style scoped>\n",
       "    .dataframe tbody tr th:only-of-type {\n",
       "        vertical-align: middle;\n",
       "    }\n",
       "\n",
       "    .dataframe tbody tr th {\n",
       "        vertical-align: top;\n",
       "    }\n",
       "\n",
       "    .dataframe thead th {\n",
       "        text-align: right;\n",
       "    }\n",
       "</style>\n",
       "<table border=\"1\" class=\"dataframe\">\n",
       "  <thead>\n",
       "    <tr style=\"text-align: right;\">\n",
       "      <th></th>\n",
       "      <th>n_estimators</th>\n",
       "      <th>max_depth</th>\n",
       "      <th>class_weight</th>\n",
       "      <th>criterion</th>\n",
       "      <th>mean_accuracy</th>\n",
       "      <th>std_accuracy</th>\n",
       "    </tr>\n",
       "  </thead>\n",
       "  <tbody>\n",
       "    <tr>\n",
       "      <th>500</th>\n",
       "      <td>50</td>\n",
       "      <td>28</td>\n",
       "      <td>None</td>\n",
       "      <td>gini</td>\n",
       "      <td>0.904290</td>\n",
       "      <td>0.010961</td>\n",
       "    </tr>\n",
       "    <tr>\n",
       "      <th>708</th>\n",
       "      <td>100</td>\n",
       "      <td>31</td>\n",
       "      <td>None</td>\n",
       "      <td>gini</td>\n",
       "      <td>0.903547</td>\n",
       "      <td>0.014380</td>\n",
       "    </tr>\n",
       "    <tr>\n",
       "      <th>510</th>\n",
       "      <td>50</td>\n",
       "      <td>30</td>\n",
       "      <td>balanced</td>\n",
       "      <td>gini</td>\n",
       "      <td>0.902817</td>\n",
       "      <td>0.013554</td>\n",
       "    </tr>\n",
       "    <tr>\n",
       "      <th>526</th>\n",
       "      <td>50</td>\n",
       "      <td>34</td>\n",
       "      <td>balanced</td>\n",
       "      <td>gini</td>\n",
       "      <td>0.902809</td>\n",
       "      <td>0.013010</td>\n",
       "    </tr>\n",
       "    <tr>\n",
       "      <th>744</th>\n",
       "      <td>100</td>\n",
       "      <td>40</td>\n",
       "      <td>None</td>\n",
       "      <td>gini</td>\n",
       "      <td>0.902806</td>\n",
       "      <td>0.010460</td>\n",
       "    </tr>\n",
       "    <tr>\n",
       "      <th>748</th>\n",
       "      <td>100</td>\n",
       "      <td>41</td>\n",
       "      <td>None</td>\n",
       "      <td>gini</td>\n",
       "      <td>0.902806</td>\n",
       "      <td>0.010460</td>\n",
       "    </tr>\n",
       "    <tr>\n",
       "      <th>736</th>\n",
       "      <td>100</td>\n",
       "      <td>38</td>\n",
       "      <td>None</td>\n",
       "      <td>gini</td>\n",
       "      <td>0.902806</td>\n",
       "      <td>0.010460</td>\n",
       "    </tr>\n",
       "    <tr>\n",
       "      <th>756</th>\n",
       "      <td>100</td>\n",
       "      <td>43</td>\n",
       "      <td>None</td>\n",
       "      <td>gini</td>\n",
       "      <td>0.902806</td>\n",
       "      <td>0.010460</td>\n",
       "    </tr>\n",
       "    <tr>\n",
       "      <th>504</th>\n",
       "      <td>50</td>\n",
       "      <td>29</td>\n",
       "      <td>None</td>\n",
       "      <td>gini</td>\n",
       "      <td>0.902806</td>\n",
       "      <td>0.011698</td>\n",
       "    </tr>\n",
       "    <tr>\n",
       "      <th>760</th>\n",
       "      <td>100</td>\n",
       "      <td>44</td>\n",
       "      <td>None</td>\n",
       "      <td>gini</td>\n",
       "      <td>0.902806</td>\n",
       "      <td>0.010460</td>\n",
       "    </tr>\n",
       "  </tbody>\n",
       "</table>\n",
       "</div>"
      ],
      "text/plain": [
       "     n_estimators  max_depth class_weight criterion  mean_accuracy  \\\n",
       "500            50         28         None      gini       0.904290   \n",
       "708           100         31         None      gini       0.903547   \n",
       "510            50         30     balanced      gini       0.902817   \n",
       "526            50         34     balanced      gini       0.902809   \n",
       "744           100         40         None      gini       0.902806   \n",
       "748           100         41         None      gini       0.902806   \n",
       "736           100         38         None      gini       0.902806   \n",
       "756           100         43         None      gini       0.902806   \n",
       "504            50         29         None      gini       0.902806   \n",
       "760           100         44         None      gini       0.902806   \n",
       "\n",
       "     std_accuracy  \n",
       "500      0.010961  \n",
       "708      0.014380  \n",
       "510      0.013554  \n",
       "526      0.013010  \n",
       "744      0.010460  \n",
       "748      0.010460  \n",
       "736      0.010460  \n",
       "756      0.010460  \n",
       "504      0.011698  \n",
       "760      0.010460  "
      ]
     },
     "execution_count": 33,
     "metadata": {},
     "output_type": "execute_result"
    }
   ],
   "source": [
    "results_df.head(10)"
   ]
  },
  {
   "cell_type": "markdown",
   "metadata": {
    "id": "SQMTOQynyUqG"
   },
   "source": [
    "## 6. Predictions"
   ]
  },
  {
   "cell_type": "markdown",
   "metadata": {
    "id": "FF5VVXbGyUqG"
   },
   "source": [
    "1. Choose the best model and use it to make predictions for the test dataset.\n",
    "2. Calculate the final accuracy."
   ]
  },
  {
   "cell_type": "code",
   "execution_count": 35,
   "metadata": {
    "id": "-vW7NVMOyUqG"
   },
   "outputs": [],
   "source": [
    "\n",
    "best_params = results_df.iloc[0]  # The top row has the best parameters\n",
    "\n",
    "best_model = RandomForestClassifier(\n",
    "    n_estimators=best_params[\"n_estimators\"],\n",
    "    max_depth=best_params[\"max_depth\"],\n",
    "    class_weight=best_params[\"class_weight\"],\n",
    "    criterion=best_params[\"criterion\"],\n",
    "    random_state=21,\n",
    "    n_jobs=-1\n",
    ")\n"
   ]
  },
  {
   "cell_type": "code",
   "execution_count": 36,
   "metadata": {
    "id": "qO--d7bmyUqG"
   },
   "outputs": [],
   "source": [
    "best_model.fit(X_train, y_train)\n",
    "\n",
    "y_pred = best_model.predict(X_test)"
   ]
  },
  {
   "cell_type": "code",
   "execution_count": 37,
   "metadata": {
    "id": "ed7SrIi7yUqH"
   },
   "outputs": [
    {
     "data": {
      "text/plain": [
       "0.9289940828402367"
      ]
     },
     "execution_count": 37,
     "metadata": {},
     "output_type": "execute_result"
    }
   ],
   "source": [
    "accuracy_score(y_test, y_pred)"
   ]
  }
 ],
 "metadata": {
  "colab": {
   "name": "01_gridsearch.ipynb",
   "provenance": []
  },
  "kernelspec": {
   "display_name": "Python 3 (ipykernel)",
   "language": "python",
   "name": "python3"
  },
  "language_info": {
   "codemirror_mode": {
    "name": "ipython",
    "version": 3
   },
   "file_extension": ".py",
   "mimetype": "text/x-python",
   "name": "python",
   "nbconvert_exporter": "python",
   "pygments_lexer": "ipython3",
   "version": "3.9.15"
  }
 },
 "nbformat": 4,
 "nbformat_minor": 4
}
