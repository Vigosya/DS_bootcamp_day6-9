{
 "cells": [
  {
   "cell_type": "markdown",
   "metadata": {},
   "source": [
    "# Day 09. Exercise 02\n",
    "# Metrics"
   ]
  },
  {
   "cell_type": "markdown",
   "metadata": {},
   "source": [
    "## 0. Imports"
   ]
  },
  {
   "cell_type": "code",
   "execution_count": 21,
   "metadata": {},
   "outputs": [],
   "source": [
    "import pandas as pd\n",
    "from sklearn.model_selection import train_test_split\n",
    "from sklearn.svm import SVC\n",
    "from sklearn.metrics import accuracy_score, precision_score, recall_score, roc_auc_score\n",
    "from sklearn.tree import DecisionTreeClassifier\n",
    "from sklearn.ensemble import RandomForestClassifier\n",
    "import numpy as np\n",
    "from collections import Counter"
   ]
  },
  {
   "cell_type": "markdown",
   "metadata": {},
   "source": [
    "## 1. Preprocessing"
   ]
  },
  {
   "cell_type": "markdown",
   "metadata": {},
   "source": [
    "1. Create the same dataframe as in the previous exercise.\n",
    "2. Using `train_test_split` with parameters `test_size=0.2`, `random_state=21` get `X_train`, `y_train`, `X_test`, `y_test`. Use the additional parameter `stratify`."
   ]
  },
  {
   "cell_type": "code",
   "execution_count": 9,
   "metadata": {},
   "outputs": [],
   "source": [
    "data = pd.read_csv('../data/day-of-week-not-scaled.csv')\n",
    "df = pd.read_csv(\"../data/dayofweek.csv\")\n",
    "\n",
    "X = data\n",
    "y = df['dayofweek']"
   ]
  },
  {
   "cell_type": "code",
   "execution_count": 10,
   "metadata": {},
   "outputs": [],
   "source": [
    "X_train, X_test, y_train, y_test = train_test_split(\n",
    "    X, y, test_size=0.2, random_state=21, stratify=y)"
   ]
  },
  {
   "cell_type": "markdown",
   "metadata": {},
   "source": [
    "## 2. SVM"
   ]
  },
  {
   "cell_type": "markdown",
   "metadata": {},
   "source": [
    "1. Use the best parameters from the previous exercise and train the model of SVM.\n",
    "2. You need to calculate `accuracy`, `precision`, `recall`, `ROC AUC`.\n",
    "\n",
    " - `precision` and `recall` should be calculated for each class (use `average='weighted'`)\n",
    " - `ROC AUC` should be calculated for each class against any other class (all possible pairwise combinations) and then weighted average should be applied for the final metric\n",
    " - the code in the cell should display the result as below:\n",
    "\n",
    "```\n",
    "accuracy is 0.88757\n",
    "precision is 0.89267\n",
    "recall is 0.88757\n",
    "roc_auc is 0.97878\n",
    "```"
   ]
  },
  {
   "cell_type": "code",
   "execution_count": 13,
   "metadata": {},
   "outputs": [],
   "source": [
    "best_svm_params = {\n",
    "    'C': 10, \n",
    "    'class_weight': None, \n",
    "    'gamma': 'auto', \n",
    "    'kernel': 'rbf'\n",
    "}\n",
    "\n",
    "svm_model = SVC(C=best_svm_params[\"C\"], kernel=best_svm_params[\"kernel\"], gamma=best_svm_params[\"gamma\"], class_weight=best_svm_params[\"class_weight\"], probability=True, random_state=21)\n",
    "\n",
    "\n",
    "svm_model.fit(X_train, y_train)\n",
    "\n",
    "y_pred = svm_model.predict(X_test)\n",
    "y_pred_prob = svm_model.predict_proba(X_test)\n",
    "\n",
    "accuracy = accuracy_score(y_test, y_pred)\n",
    "\n",
    "precision = precision_score(y_test, y_pred, average=\"weighted\", zero_division=0)\n",
    "recall = recall_score(y_test, y_pred, average=\"weighted\")\n",
    "\n",
    "roc_auc = roc_auc_score(y_test, y_pred_prob, average=\"weighted\", multi_class=\"ovr\")\n"
   ]
  },
  {
   "cell_type": "code",
   "execution_count": 14,
   "metadata": {},
   "outputs": [
    {
     "name": "stdout",
     "output_type": "stream",
     "text": [
      "accuracy is 0.88757\n",
      "precision is 0.89267\n",
      "recall is 0.88757\n",
      "roc_auc is 0.98168\n"
     ]
    }
   ],
   "source": [
    "print(f\"accuracy is {accuracy:.5f}\")\n",
    "print(f\"precision is {precision:.5f}\")\n",
    "print(f\"recall is {recall:.5f}\")\n",
    "print(f\"roc_auc is {roc_auc:.5f}\")"
   ]
  },
  {
   "cell_type": "markdown",
   "metadata": {},
   "source": [
    "## 3. Decision tree"
   ]
  },
  {
   "cell_type": "markdown",
   "metadata": {},
   "source": [
    "1. The same task for decision tree"
   ]
  },
  {
   "cell_type": "code",
   "execution_count": 17,
   "metadata": {},
   "outputs": [
    {
     "name": "stdout",
     "output_type": "stream",
     "text": [
      "accuracy is 0.89053\n",
      "precision is 0.89262\n",
      "recall is 0.89053\n",
      "roc_auc is 0.93806\n"
     ]
    }
   ],
   "source": [
    "dt_model = DecisionTreeClassifier(\n",
    "    class_weight='balanced',\n",
    "    criterion='gini',\n",
    "    max_depth=22,\n",
    "    random_state=21\n",
    ")\n",
    "\n",
    "dt_model.fit(X_train, y_train)\n",
    "\n",
    "y_pred = dt_model.predict(X_test)\n",
    "y_pred_prob = dt_model.predict_proba(X_test)\n",
    "\n",
    "accuracy = accuracy_score(y_test, y_pred)\n",
    "precision = precision_score(y_test, y_pred, average=\"weighted\", zero_division=0)\n",
    "recall = recall_score(y_test, y_pred, average=\"weighted\")\n",
    "roc_auc = roc_auc_score(y_test, y_pred_prob, average=\"weighted\", multi_class=\"ovr\")\n",
    "\n",
    "print(f\"accuracy is {accuracy:.5f}\")\n",
    "print(f\"precision is {precision:.5f}\")\n",
    "print(f\"recall is {recall:.5f}\")\n",
    "print(f\"roc_auc is {roc_auc:.5f}\")"
   ]
  },
  {
   "cell_type": "markdown",
   "metadata": {},
   "source": [
    "## 4. Random forest"
   ]
  },
  {
   "cell_type": "markdown",
   "metadata": {},
   "source": [
    "1. The same task for random forest."
   ]
  },
  {
   "cell_type": "code",
   "execution_count": 20,
   "metadata": {},
   "outputs": [
    {
     "name": "stdout",
     "output_type": "stream",
     "text": [
      "accuracy is 0.92899\n",
      "precision is 0.93009\n",
      "recall is 0.92899\n",
      "roc_auc is 0.99151\n"
     ]
    }
   ],
   "source": [
    "rf_model = RandomForestClassifier(\n",
    "    class_weight=None,\n",
    "    criterion='gini',\n",
    "    max_depth=28,\n",
    "    n_estimators=50,\n",
    "    random_state=21\n",
    ")\n",
    "\n",
    "rf_model.fit(X_train, y_train)\n",
    "\n",
    "y_pred = rf_model.predict(X_test)\n",
    "y_pred_prob = rf_model.predict_proba(X_test)\n",
    "\n",
    "accuracy = accuracy_score(y_test, y_pred)\n",
    "precision = precision_score(y_test, y_pred, average=\"weighted\", zero_division=0)\n",
    "recall = recall_score(y_test, y_pred, average=\"weighted\")\n",
    "roc_auc = roc_auc_score(y_test, y_pred_prob, average=\"weighted\", multi_class=\"ovr\")\n",
    "\n",
    "print(f\"accuracy is {accuracy:.5f}\")\n",
    "print(f\"precision is {precision:.5f}\")\n",
    "print(f\"recall is {recall:.5f}\")\n",
    "print(f\"roc_auc is {roc_auc:.5f}\")"
   ]
  },
  {
   "cell_type": "markdown",
   "metadata": {},
   "source": [
    "## 5. Predictions"
   ]
  },
  {
   "cell_type": "markdown",
   "metadata": {},
   "source": [
    "1. Choose the best model.\n",
    "2. Analyze: for which `weekday` your model makes the most errors (in % of the total number of samples of that class in your full dataset), for which `labname` and for which `users`.\n",
    "3. Save the model."
   ]
  },
  {
   "cell_type": "code",
   "execution_count": 22,
   "metadata": {},
   "outputs": [],
   "source": [
    "errors = y_test != y_pred\n",
    "\n",
    "test_data = X_test.copy()\n",
    "test_data[\"true_label\"] = y_test\n",
    "test_data[\"predicted_label\"] = y_pred\n",
    "test_data[\"error\"] = errors.astype(int)"
   ]
  },
  {
   "cell_type": "code",
   "execution_count": 30,
   "metadata": {},
   "outputs": [
    {
     "data": {
      "text/plain": [
       "(true_weekday\n",
       " 0    25.925926\n",
       " Name: error, dtype: float64,\n",
       " labname\n",
       " labname_lab03    100.0\n",
       " Name: error, dtype: float64,\n",
       " user_id\n",
       " uid_user_22    100.0\n",
       " Name: error, dtype: float64)"
      ]
     },
     "execution_count": 30,
     "metadata": {},
     "output_type": "execute_result"
    }
   ],
   "source": [
    "\n",
    "error_analysis = pd.DataFrame({\"true_weekday\": y_test, \"error\": errors.astype(int)})\n",
    "weekday_errors = error_analysis.groupby(\"true_weekday\")[\"error\"].sum()\n",
    "weekday_total = error_analysis.groupby(\"true_weekday\")[\"error\"].count()\n",
    "weekday_error_percent = (weekday_errors / weekday_total * 100).sort_values(ascending=False)\n",
    "    \n",
    "    \n",
    "    \n",
    "    \n",
    "user_columns = [col for col in test_data.columns if \"uid_user_\" in col]\n",
    "test_data[\"user_id\"] = test_data[user_columns].idxmax(axis=1)  \n",
    "\n",
    "user_errors = test_data.groupby(\"user_id\")[\"error\"].sum()\n",
    "user_total = test_data.groupby(\"user_id\")[\"error\"].count()\n",
    "user_error_percent = (user_errors / user_total * 100).sort_values(ascending=False)\n",
    "\n",
    "\n",
    "lab_columns = [col for col in test_data.columns if \"labname_\" in col]\n",
    "test_data[\"labname\"] = test_data[lab_columns].idxmax(axis=1)\n",
    "\n",
    "lab_errors = test_data.groupby(\"labname\")[\"error\"].sum()\n",
    "lab_total = test_data.groupby(\"labname\")[\"error\"].count()\n",
    "lab_error_percent = (lab_errors / lab_total * 100).sort_values(ascending=False)\n",
    "\n",
    "\n",
    "    \n",
    "weekday_error_percent.head(1), lab_error_percent.head(1), user_error_percent.head(1)"
   ]
  },
  {
   "cell_type": "code",
   "execution_count": 31,
   "metadata": {},
   "outputs": [
    {
     "data": {
      "text/plain": [
       "['best_model.pkl']"
      ]
     },
     "execution_count": 31,
     "metadata": {},
     "output_type": "execute_result"
    }
   ],
   "source": [
    "import joblib\n",
    "\n",
    "\n",
    "joblib.dump(rf_model, \"best_model.pkl\")\n",
    "\n"
   ]
  },
  {
   "cell_type": "markdown",
   "metadata": {},
   "source": [
    "## 6. Function"
   ]
  },
  {
   "cell_type": "markdown",
   "metadata": {},
   "source": [
    "1. Write a function that takes a list of different models and a corresponding list of parameters (dicts) and returns a dict that contains all the 4 metrics for each model."
   ]
  },
  {
   "cell_type": "code",
   "execution_count": null,
   "metadata": {},
   "outputs": [],
   "source": [
    "def evaluate_models(models, params, X_train, y_train, X_test, y_test):    \n",
    "    results = {}\n",
    "    for model, param in zip(models, params):\n",
    "        model_inst = model(**param)\n",
    "        model_inst.fit(X_train, y_train)\n",
    "        y_pred = model_inst.predict(X_test)\n",
    "        y_prob = model_inst.predict_proba(X_test)\n",
    "        \n",
    "        metrics = {\n",
    "            'accuracy': accuracy_score(y_test, y_pred),\n",
    "            'precision': precision_score(y_test, y_pred, average='weighted'),\n",
    "            'recall': recall_score(y_test, y_pred, average='weighted'),\n",
    "            'roc_auc': roc_auc_score(pd.get_dummies(y_test), y_prob, multi_class='ovr', average='weighted')\n",
    "        }\n",
    "        \n",
    "        results[model.__name__] = metrics\n",
    "        \n",
    "    return results"
   ]
  },
  {
   "cell_type": "code",
   "execution_count": null,
   "metadata": {},
   "outputs": [],
   "source": [
    "# example callevaluate_models(\n",
    "    [SVC],\n",
    "    [{'kernel':'rbf', 'C':10, 'gamma':'auto', 'class_weight':None, 'probability':True, 'random_state':21}],\n",
    "    X_train, y_train, X_test, y_test\n",
    ")"
   ]
  }
 ],
 "metadata": {
  "kernelspec": {
   "display_name": "Python 3 (ipykernel)",
   "language": "python",
   "name": "python3"
  },
  "language_info": {
   "codemirror_mode": {
    "name": "ipython",
    "version": 3
   },
   "file_extension": ".py",
   "mimetype": "text/x-python",
   "name": "python",
   "nbconvert_exporter": "python",
   "pygments_lexer": "ipython3",
   "version": "3.11.4"
  }
 },
 "nbformat": 4,
 "nbformat_minor": 4
}
