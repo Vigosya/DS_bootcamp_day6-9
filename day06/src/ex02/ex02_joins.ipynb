{
 "cells": [
  {
   "cell_type": "code",
   "execution_count": 1,
   "id": "4bc0739b-7d44-4d8d-afaa-cab31c97000e",
   "metadata": {},
   "outputs": [],
   "source": [
    "import pandas as pd\n",
    "import sqlite3"
   ]
  },
  {
   "cell_type": "code",
   "execution_count": 2,
   "id": "adca460d-8571-43e7-bf8a-e780a888bf84",
   "metadata": {},
   "outputs": [],
   "source": [
    "connection = sqlite3.connect(\"../data/checking-logs.sqlite\")"
   ]
  },
  {
   "cell_type": "code",
   "execution_count": 3,
   "id": "7c89cc14-f6af-4368-978a-929a1d04b4b8",
   "metadata": {},
   "outputs": [],
   "source": [
    "cursor = connection.cursor()"
   ]
  },
  {
   "cell_type": "code",
   "execution_count": null,
   "id": "6f6a0e50-9c75-4f46-a7f4-4802b2d3adc2",
   "metadata": {},
   "outputs": [],
   "source": [
    "cursor.execute(\"\"\"\n",
    "CREATE TABLE datamart AS\n",
    "SELECT \n",
    "    checker.uid AS uid,\n",
    "    checker.labname AS labname,\n",
    "    MIN(checker.timestamp) AS first_commit_ts,\n",
    "    MIN(pageviews.datetime) AS first_view_ts\n",
    "FROM checker\n",
    "LEFT JOIN pageviews ON checker.uid = pageviews.uid\n",
    "WHERE checker.status = 'ready'\n",
    "    AND numTrials = 1\n",
    "    AND labname IN ('laba04', 'laba04s', 'laba05', 'laba06', 'laba06s', 'project1')\n",
    "    AND checker.uid LIKE 'user_%'\n",
    "GROUP BY checker.uid, checker.labname;\n",
    "\"\"\")"
   ]
  },
  {
   "cell_type": "code",
   "execution_count": null,
   "id": "9c379ca0-4a0d-4a57-9666-c46b9250dcd2",
   "metadata": {},
   "outputs": [],
   "source": [
    "pd.io.sql.read_sql(\"SELECT * FROM datamart LIMIT 10;\", connection)"
   ]
  },
  {
   "cell_type": "code",
   "execution_count": 5,
   "id": "1ae8850e-41f6-48a8-b586-0bd68ec0a9b6",
   "metadata": {},
   "outputs": [
    {
     "data": {
      "text/html": [
       "<div>\n",
       "<style scoped>\n",
       "    .dataframe tbody tr th:only-of-type {\n",
       "        vertical-align: middle;\n",
       "    }\n",
       "\n",
       "    .dataframe tbody tr th {\n",
       "        vertical-align: top;\n",
       "    }\n",
       "\n",
       "    .dataframe thead th {\n",
       "        text-align: right;\n",
       "    }\n",
       "</style>\n",
       "<table border=\"1\" class=\"dataframe\">\n",
       "  <thead>\n",
       "    <tr style=\"text-align: right;\">\n",
       "      <th></th>\n",
       "      <th>uid</th>\n",
       "      <th>labname</th>\n",
       "      <th>first_commit_ts</th>\n",
       "      <th>first_view_ts</th>\n",
       "    </tr>\n",
       "  </thead>\n",
       "  <tbody>\n",
       "    <tr>\n",
       "      <th>0</th>\n",
       "      <td>user_1</td>\n",
       "      <td>laba04</td>\n",
       "      <td>2020-04-26 17:06:18.462708</td>\n",
       "      <td>2020-04-26 21:53:59.624136</td>\n",
       "    </tr>\n",
       "    <tr>\n",
       "      <th>1</th>\n",
       "      <td>user_1</td>\n",
       "      <td>laba04s</td>\n",
       "      <td>2020-04-26 17:12:11.843671</td>\n",
       "      <td>2020-04-26 21:53:59.624136</td>\n",
       "    </tr>\n",
       "    <tr>\n",
       "      <th>2</th>\n",
       "      <td>user_1</td>\n",
       "      <td>laba05</td>\n",
       "      <td>2020-05-02 19:15:18.540185</td>\n",
       "      <td>2020-04-26 21:53:59.624136</td>\n",
       "    </tr>\n",
       "    <tr>\n",
       "      <th>3</th>\n",
       "      <td>user_1</td>\n",
       "      <td>laba06</td>\n",
       "      <td>2020-05-17 16:26:35.268534</td>\n",
       "      <td>2020-04-26 21:53:59.624136</td>\n",
       "    </tr>\n",
       "    <tr>\n",
       "      <th>4</th>\n",
       "      <td>user_1</td>\n",
       "      <td>laba06s</td>\n",
       "      <td>2020-05-20 12:23:37.289724</td>\n",
       "      <td>2020-04-26 21:53:59.624136</td>\n",
       "    </tr>\n",
       "  </tbody>\n",
       "</table>\n",
       "</div>"
      ],
      "text/plain": [
       "      uid  labname            first_commit_ts              first_view_ts\n",
       "0  user_1   laba04 2020-04-26 17:06:18.462708 2020-04-26 21:53:59.624136\n",
       "1  user_1  laba04s 2020-04-26 17:12:11.843671 2020-04-26 21:53:59.624136\n",
       "2  user_1   laba05 2020-05-02 19:15:18.540185 2020-04-26 21:53:59.624136\n",
       "3  user_1   laba06 2020-05-17 16:26:35.268534 2020-04-26 21:53:59.624136\n",
       "4  user_1  laba06s 2020-05-20 12:23:37.289724 2020-04-26 21:53:59.624136"
      ]
     },
     "execution_count": 5,
     "metadata": {},
     "output_type": "execute_result"
    }
   ],
   "source": [
    "query = \"SELECT * FROM datamart;\"\n",
    "datamart_df = pd.read_sql_query(query, connection)\n",
    "\n",
    "datamart_df['first_commit_ts'] = pd.to_datetime(datamart_df['first_commit_ts'])\n",
    "datamart_df['first_view_ts'] = pd.to_datetime(datamart_df['first_view_ts'])\n",
    "\n",
    "datamart_df.head()"
   ]
  },
  {
   "cell_type": "code",
   "execution_count": 6,
   "id": "f644c5bf-ab92-43f1-a970-a11012b09226",
   "metadata": {},
   "outputs": [],
   "source": [
    "test_df = datamart_df[datamart_df['first_view_ts'].notna()]\n",
    "control_df = datamart_df[datamart_df['first_view_ts'].isna()]"
   ]
  },
  {
   "cell_type": "code",
   "execution_count": 7,
   "id": "447e9430-d017-45d2-af73-72ea71a8971f",
   "metadata": {},
   "outputs": [],
   "source": [
    "avg_first_view_ts = test_df['first_view_ts'].mean()\n",
    "control_df.loc[:, 'first_view_ts'] = avg_first_view_ts\n"
   ]
  },
  {
   "cell_type": "code",
   "execution_count": 8,
   "id": "3753fce7-6238-4944-94c1-b61df50a1f5e",
   "metadata": {},
   "outputs": [
    {
     "data": {
      "text/plain": [
       "81"
      ]
     },
     "execution_count": 8,
     "metadata": {},
     "output_type": "execute_result"
    }
   ],
   "source": [
    "test_df.to_sql(\"test\", connection, if_exists=\"replace\", index=False)\n",
    "control_df.to_sql(\"control\", connection, if_exists=\"replace\", index=False)"
   ]
  },
  {
   "cell_type": "code",
   "execution_count": 9,
   "id": "2cfb66ad-d79e-4659-8a83-d7f46279750a",
   "metadata": {},
   "outputs": [],
   "source": [
    "connection.close()"
   ]
  },
  {
   "cell_type": "code",
   "execution_count": null,
   "id": "7dd8a983-2580-475e-bb08-159bc329c29b",
   "metadata": {},
   "outputs": [],
   "source": []
  }
 ],
 "metadata": {
  "kernelspec": {
   "display_name": "Python 3.12.7 64-bit",
   "language": "python",
   "name": "python3"
  },
  "language_info": {
   "codemirror_mode": {
    "name": "ipython",
    "version": 3
   },
   "file_extension": ".py",
   "mimetype": "text/x-python",
   "name": "python",
   "nbconvert_exporter": "python",
   "pygments_lexer": "ipython3",
   "version": "3.12.7"
  },
  "vscode": {
   "interpreter": {
    "hash": "f1062708a37074d70712b695aadee582e0b0b9f95f45576b5521424137d05fec"
   }
  }
 },
 "nbformat": 4,
 "nbformat_minor": 5
}
